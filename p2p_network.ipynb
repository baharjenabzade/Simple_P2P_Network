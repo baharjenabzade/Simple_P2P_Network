{
  "nbformat": 4,
  "nbformat_minor": 0,
  "metadata": {
    "colab": {
      "provenance": []
    },
    "kernelspec": {
      "name": "python3",
      "display_name": "Python 3"
    },
    "language_info": {
      "name": "python"
    }
  },
  "cells": [
    {
      "cell_type": "code",
      "execution_count": 7,
      "metadata": {
        "colab": {
          "base_uri": "https://localhost:8080/"
        },
        "id": "fy2Q5cTabFI3",
        "outputId": "dd7a5a4d-0cbb-44ce-84da-a72544300385"
      },
      "outputs": [
        {
          "output_type": "stream",
          "name": "stderr",
          "text": [
            "Exception in thread Thread-20 (start_server):\n",
            "Traceback (most recent call last):\n",
            "  File \"/usr/lib/python3.10/threading.py\", line 1016, in _bootstrap_inner\n",
            "    self.run()\n",
            "  File \"/usr/lib/python3.10/threading.py\", line 953, in run\n",
            "    self._target(*self._args, **self._kwargs)\n",
            "  File \"<ipython-input-7-c727182e55f9>\", line 22, in start_server\n",
            "OSError: [Errno 98] Address already in use\n",
            "Exception in thread Thread-21 (start_server):\n",
            "Traceback (most recent call last):\n",
            "  File \"/usr/lib/python3.10/threading.py\", line 1016, in _bootstrap_inner\n"
          ]
        },
        {
          "output_type": "stream",
          "name": "stdout",
          "text": [
            "[INFO] Connection established with ('127.0.0.1', 49974)\n",
            "[RECEIVED from ('127.0.0.1', 49974)]: example.txt,19\n",
            "[INFO] File 'example.txt' sent to 127.0.0.1:5002\n"
          ]
        },
        {
          "output_type": "stream",
          "name": "stderr",
          "text": [
            "    self.run()\n",
            "  File \"/usr/lib/python3.10/threading.py\", line 953, in run\n",
            "    self._target(*self._args, **self._kwargs)\n",
            "  File \"<ipython-input-7-c727182e55f9>\", line 22, in start_server\n",
            "OSError: [Errno 98] Address already in use\n"
          ]
        },
        {
          "output_type": "stream",
          "name": "stdout",
          "text": [
            "[RECEIVED from ('127.0.0.1', 49974)]: hi this ia a mesage\n",
            "[INFO] Connection closed with ('127.0.0.1', 49974)\n"
          ]
        }
      ],
      "source": [
        "import socket\n",
        "import threading\n",
        "import json\n",
        "import os\n",
        "\n",
        "class Peer:\n",
        "    def __init__(self, config_path):\n",
        "        # Load configuration from file\n",
        "        with open(config_path, 'r') as config_file:\n",
        "            config = json.load(config_file)\n",
        "\n",
        "        self.host = config['host']\n",
        "        self.port = config['port']\n",
        "        self.known_peers = config['known_peers']\n",
        "\n",
        "        # Start server thread to listen for incoming connections\n",
        "        server_thread = threading.Thread(target=self.start_server)\n",
        "        server_thread.start()\n",
        "\n",
        "    def start_server(self):\n",
        "        server_socket = socket.socket(socket.AF_INET, socket.SOCK_STREAM)\n",
        "        server_socket.bind((self.host, self.port))\n",
        "        server_socket.listen(5)\n",
        "        print(f\"[INFO] Peer listening on {self.host}:{self.port}\")\n",
        "\n",
        "        while True:\n",
        "            conn, addr = server_socket.accept()\n",
        "            print(f\"[INFO] Connection established with {addr}\")\n",
        "\n",
        "            # Start a thread to handle communication with each connected peer\n",
        "            threading.Thread(target=self.handle_peer, args=(conn,)).start()\n",
        "\n",
        "    def handle_peer(self, conn):\n",
        "        # Receive file metadata (file name and size)\n",
        "        file_metadata = conn.recv(1024).decode('utf-8')\n",
        "        file_name, file_size = file_metadata.split(',')\n",
        "        file_size = int(file_size)\n",
        "        print(f\"[INFO] Receiving file '{file_name}' of size {file_size} bytes\")\n",
        "\n",
        "        # Receive the file in chunks and save it\n",
        "        with open(file_name, 'wb') as file:\n",
        "            bytes_received = 0\n",
        "            while bytes_received < file_size:\n",
        "                chunk = conn.recv(1024)\n",
        "                if not chunk:\n",
        "                    break\n",
        "                file.write(chunk)\n",
        "                bytes_received += len(chunk)\n",
        "\n",
        "        print(f\"[INFO] File '{file_name}' received successfully\")\n",
        "        conn.close()\n",
        "\n",
        "    def send_file(self, peer_host, peer_port, file_path):\n",
        "        # Connect to the target peer\n",
        "        client_socket = socket.socket(socket.AF_INET, socket.SOCK_STREAM)\n",
        "        client_socket.connect((peer_host, peer_port))\n",
        "\n",
        "        # Get file size\n",
        "        file_size = os.path.getsize(file_path)\n",
        "        file_name = os.path.basename(file_path)\n",
        "\n",
        "        # Send file metadata (file name and size)\n",
        "        client_socket.send(f\"{file_name},{file_size}\".encode('utf-8'))\n",
        "\n",
        "        # Send the file in chunks\n",
        "        with open(file_path, 'rb') as file:\n",
        "            while chunk := file.read(1024):\n",
        "                client_socket.send(chunk)\n",
        "\n",
        "        print(f\"[INFO] File '{file_name}' sent to {peer_host}:{peer_port}\")\n",
        "        client_socket.close()\n",
        "\n",
        "# Example usage:\n",
        "if __name__ == \"__main__\":\n",
        "    # Initialize peers using their config files\n",
        "    peer1 = Peer(\"peer1_config.json\")\n",
        "    peer2 = Peer(\"peer2_config.json\")\n",
        "\n",
        "    # Peer1 sends a file to Peer2\n",
        "    file_to_send = \"example.txt\"  # This should be a file in the same directory\n",
        "    peer1.send_file(\"127.0.0.1\", 5002, file_to_send)\n"
      ]
    }
  ]
}